{
 "cells": [
  {
   "cell_type": "markdown",
   "id": "f7d9374c",
   "metadata": {},
   "source": [
    "# Else After For\n",
    "The else function after for takes precedence on a repeat of a search nature, to provide a way out of the program when the search is not found"
   ]
  },
  {
   "cell_type": "code",
   "execution_count": 6,
   "id": "5ae6c661",
   "metadata": {},
   "outputs": [
    {
     "name": "stdout",
     "output_type": "stream",
     "text": [
      "1 adalah bukan genap\n",
      "2 adalah bilangan genap\n",
      "3 adalah bukan genap\n",
      "4 adalah bilangan genap\n",
      "5 adalah bukan genap\n",
      "6 adalah bilangan genap\n"
     ]
    }
   ],
   "source": [
    "for i in range(1,7):\n",
    "    if i % 2 == 0:\n",
    "        print(\"{} adalah bilangan genap\".format(i))\n",
    "    else:\n",
    "            print(\"{} adalah bukan genap\".format(i))"
   ]
  },
  {
   "cell_type": "markdown",
   "id": "eee07758",
   "metadata": {},
   "source": [
    "# TASK\n",
    "display the numbers 5-100 and specify whether it is a multiple of 5 or not a multiple of 5;\n"
   ]
  },
  {
   "cell_type": "code",
   "execution_count": 9,
   "id": "57b9124d",
   "metadata": {},
   "outputs": [
    {
     "name": "stdout",
     "output_type": "stream",
     "text": [
      "5 adalah bilangan kelipatan 5\n",
      "10 adalah bilangan kelipatan 5\n",
      "15 adalah bilangan kelipatan 5\n",
      "20 adalah bilangan kelipatan 5\n",
      "25 adalah bilangan kelipatan 5\n",
      "30 adalah bilangan kelipatan 5\n",
      "35 adalah bilangan kelipatan 5\n",
      "40 adalah bilangan kelipatan 5\n",
      "45 adalah bilangan kelipatan 5\n",
      "50 adalah bilangan kelipatan 5\n",
      "55 adalah bilangan kelipatan 5\n",
      "60 adalah bilangan kelipatan 5\n",
      "65 adalah bilangan kelipatan 5\n",
      "70 adalah bilangan kelipatan 5\n",
      "75 adalah bilangan kelipatan 5\n",
      "80 adalah bilangan kelipatan 5\n",
      "85 adalah bilangan kelipatan 5\n",
      "90 adalah bilangan kelipatan 5\n",
      "95 adalah bilangan kelipatan 5\n",
      "100 adalah bilangan kelipatan 5\n"
     ]
    }
   ],
   "source": [
    "for i in range (5,101,5):\n",
    "    if i % 5 == 0:\n",
    "        print(\"{} adalah bilangan kelipatan 5\".format(i))\n",
    "    else:\n",
    "        print(\"{} adalah bilangan kelipatan 5\".format(i))"
   ]
  }
 ],
 "metadata": {
  "kernelspec": {
   "display_name": "Python 3 (ipykernel)",
   "language": "python",
   "name": "python3"
  },
  "language_info": {
   "codemirror_mode": {
    "name": "ipython",
    "version": 3
   },
   "file_extension": ".py",
   "mimetype": "text/x-python",
   "name": "python",
   "nbconvert_exporter": "python",
   "pygments_lexer": "ipython3",
   "version": "3.9.7"
  }
 },
 "nbformat": 4,
 "nbformat_minor": 5
}
